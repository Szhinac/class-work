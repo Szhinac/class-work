{
 "cells": [
  {
   "cell_type": "code",
   "execution_count": 10,
   "id": "26c7a97b",
   "metadata": {},
   "outputs": [
    {
     "data": {
      "image/png": "[encoded data removed]",
      "text/plain": [
       "<PIL.PngImagePlugin.PngImageFile image mode=RGBA size=125x125>"
      ]
     },
     "metadata": {},
     "output_type": "display_data"
    }
   ],
   "source": [
    "from PIL import Image \n",
    "\n",
    "file_path =\"/Users/stevezhina/Documents/Harp 151/PNG.folder\"\n",
    "\n",
    "#f string to specifically select an image\n",
    "image = Image.open(f\"{file_path}/empty_scaffold.png\")\n",
    "image.show()\n",
    "\n",
    "#this only works for JN\n",
    "display (image)\n"
   ]
  },
  {
   "cell_type": "code",
   "execution_count": 19,
   "id": "9e3dfc37",
   "metadata": {},
   "outputs": [
    {
     "ename": "ValueError",
     "evalue": "Must have exactly one of create/read/write/append mode and at most one plus",
     "output_type": "error",
     "traceback": [
      "\u001b[0;31m---------------------------------------------------------------------------\u001b[0m",
      "\u001b[0;31mValueError\u001b[0m                                Traceback (most recent call last)",
      "Cell \u001b[0;32mIn[19], line 5\u001b[0m\n\u001b[1;32m      1\u001b[0m \u001b[38;5;28;01mimport\u001b[39;00m \u001b[38;5;21;01mrandom\u001b[39;00m\n\u001b[1;32m      3\u001b[0m file_path \u001b[38;5;241m=\u001b[39m \u001b[38;5;124m\"\u001b[39m\u001b[38;5;124m/Users/stevezhina/Documents/Harp 151/TXT.folder\u001b[39m\u001b[38;5;124m\"\u001b[39m\n\u001b[0;32m----> 5\u001b[0m \u001b[38;5;28;01mwith\u001b[39;00m \u001b[38;5;28mopen\u001b[39m(file_path, \u001b[38;5;124m\"\u001b[39m\u001b[38;5;124m\"\u001b[39m, encoding\u001b[38;5;241m=\u001b[39m\u001b[38;5;124m\"\u001b[39m\u001b[38;5;124m\"\u001b[39m) \u001b[38;5;28;01mas\u001b[39;00m f:\n\u001b[1;32m      6\u001b[0m     \u001b[38;5;66;03m#the with line is the same as this below:\u001b[39;00m\n\u001b[1;32m      7\u001b[0m     \u001b[38;5;66;03m#f = open(filename, \"r\", encoding=\"utf8\")\u001b[39;00m\n\u001b[1;32m      8\u001b[0m     words \u001b[38;5;241m=\u001b[39m f\u001b[38;5;241m.\u001b[39mreadlines()\n\u001b[1;32m      9\u001b[0m     f\u001b[38;5;241m.\u001b[39mclose()\n",
      "File \u001b[0;32m~/anaconda3/lib/python3.11/site-packages/IPython/core/interactiveshell.py:284\u001b[0m, in \u001b[0;36m_modified_open\u001b[0;34m(file, *args, **kwargs)\u001b[0m\n\u001b[1;32m    277\u001b[0m \u001b[38;5;28;01mif\u001b[39;00m file \u001b[38;5;129;01min\u001b[39;00m {\u001b[38;5;241m0\u001b[39m, \u001b[38;5;241m1\u001b[39m, \u001b[38;5;241m2\u001b[39m}:\n\u001b[1;32m    278\u001b[0m     \u001b[38;5;28;01mraise\u001b[39;00m \u001b[38;5;167;01mValueError\u001b[39;00m(\n\u001b[1;32m    279\u001b[0m         \u001b[38;5;124mf\u001b[39m\u001b[38;5;124m\"\u001b[39m\u001b[38;5;124mIPython won\u001b[39m\u001b[38;5;124m'\u001b[39m\u001b[38;5;124mt let you open fd=\u001b[39m\u001b[38;5;132;01m{\u001b[39;00mfile\u001b[38;5;132;01m}\u001b[39;00m\u001b[38;5;124m by default \u001b[39m\u001b[38;5;124m\"\u001b[39m\n\u001b[1;32m    280\u001b[0m         \u001b[38;5;124m\"\u001b[39m\u001b[38;5;124mas it is likely to crash IPython. If you know what you are doing, \u001b[39m\u001b[38;5;124m\"\u001b[39m\n\u001b[1;32m    281\u001b[0m         \u001b[38;5;124m\"\u001b[39m\u001b[38;5;124myou can use builtins\u001b[39m\u001b[38;5;124m'\u001b[39m\u001b[38;5;124m open.\u001b[39m\u001b[38;5;124m\"\u001b[39m\n\u001b[1;32m    282\u001b[0m     )\n\u001b[0;32m--> 284\u001b[0m \u001b[38;5;28;01mreturn\u001b[39;00m io_open(file, \u001b[38;5;241m*\u001b[39margs, \u001b[38;5;241m*\u001b[39m\u001b[38;5;241m*\u001b[39mkwargs)\n",
      "\u001b[0;31mValueError\u001b[0m: Must have exactly one of create/read/write/append mode and at most one plus"
     ]
    }
   ],
   "source": [
    "import random\n",
    "\n",
    "file_path = \"/Users/stevezhina/Documents/Harp 151/TXT.folder\"\n",
    "\n",
    "with open(file_path, \"r\", encoding=\"utf8\") as f:\n",
    "    #the with line is the same as this below:\n",
    "    #f = open(filename, \"r\", encoding=\"utf8\")\n",
    "    words = f.readlines()\n",
    "    f.close()\n",
    "\n",
    "word = random.choice(words).strip()\n",
    "word\n"
   ]
  },
  {
   "cell_type": "code",
   "execution_count": null,
   "id": "991bf77a",
   "metadata": {},
   "outputs": [],
   "source": [
    "\n"
   ]
  },
  {
   "cell_type": "code",
   "execution_count": 28,
   "id": "b35209c8",
   "metadata": {},
   "outputs": [
    {
     "data": {
      "text/plain": [
       "<__main__.ImageEditor at 0x10e23b950>"
      ]
     },
     "execution_count": 28,
     "metadata": {},
     "output_type": "execute_result"
    }
   ],
   "source": [
    "from PIL import Image, ImageFont, ImageDraw\n",
    "import os\n",
    "\n",
    "class ImageEditor:\n",
    "    def __init__(self, image_path):\n",
    "        self.file_path = image_path\n",
    "        self.image = Image.open(image_path)\n",
    "        \n",
    "    def rotate(self, degree):\n",
    "        self.image = self.image.rotate(degree)\n",
    "        \n",
    "        #method chanining\n",
    "        return self\n",
    "    \n",
    "    def add_text(self, x, y, text, color=None):\n",
    "        draw = ImageDraw.Draw(self.image)\n",
    "        font = ImageFont.truetype(\"arial.ttf\", 40)\n",
    "        \n",
    "        draw.text((x, y), text, font=font, fill=color) \n",
    "        return self\n",
    "    \n",
    "    def create_thumbnail(self, width, height):\n",
    "        #splitting file path to be able to save new version\n",
    "        file, ext = os.path.splitext(self.file_path)\n",
    "        thumbnail_path = file + \".thumbnail\" + ext\n",
    "        \n",
    "        self.image.thumbnail((width, height))\n",
    "        self.image.save(thumbnail_path, \"JPEG\")\n",
    "        return self\n",
    "        \n",
    "    def save_changes(self, file_add):\n",
    "        file, ext = os.path.splitext(self.file_path)\n",
    "        new_path = file + file_add + ext\n",
    "        self.image.save(new_path, \"JPEG\")\n",
    "        return self\n",
    "        \n",
    "    def show(self):\n",
    "        self.image.show()\n",
    "        \n",
    "        \n",
    "image_1 = ImageEditor(\"/Users/stevezhina/Documents/Harp 151/PNG.folder/crosseeyed.jpg\")\n",
    "image_1.rotate(180).save_changes(\"edited\")\n",
    "#image_1.add_text(100, 100, \"MeOW!\", \"purple\").save_changes(\"_meow\")\n",
    "\n",
    "\n"
   ]
  },
  {
   "cell_type": "code",
   "execution_count": null,
   "id": "002c51bf",
   "metadata": {},
   "outputs": [],
   "source": []
  },
  {
   "cell_type": "code",
   "execution_count": null,
   "id": "2269b465",
   "metadata": {},
   "outputs": [],
   "source": []
  }
 ],
 "metadata": {
  "kernelspec": {
   "display_name": "Python 3 (ipykernel)",
   "language": "python",
   "name": "python3"
  },
  "language_info": {
   "codemirror_mode": {
    "name": "ipython",
    "version": 3
   },
   "file_extension": ".py",
   "mimetype": "text/x-python",
   "name": "python",
   "nbconvert_exporter": "python",
   "pygments_lexer": "ipython3",
   "version": "3.11.4"
  }
 },
 "nbformat": 4,
 "nbformat_minor": 5
}
